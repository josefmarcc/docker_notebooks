{
 "cells": [
  {
   "cell_type": "markdown",
   "metadata": {},
   "source": [
    "# Numpy\n",
    "### Data structure to hold multiple dimensional array of same data type\n",
    "Commonly but not necessarily it would be numeric values"
   ]
  },
  {
   "cell_type": "markdown",
   "metadata": {},
   "source": [
    "## TOC\n",
    "- numpy arrays\n",
    "  - np.array()\n",
    "  - np.arange(1,10,2) # like range(1,10,2)\n",
    "  - np.linspace(start, end, num_of_el)\n",
    "  - indexing and slicing\n",
    "- multidimensional arrays\n",
    "  - np.array().shape attribute\n",
    "  - np.array().reshape(array1_len, array2_len)\n",
    "- masking\n",
    "\n",
    "  "
   ]
  },
  {
   "cell_type": "code",
   "execution_count": 1,
   "metadata": {},
   "outputs": [],
   "source": [
    "# the following line is jupyter notebook specific \n",
    "%matplotlib inline"
   ]
  },
  {
   "cell_type": "markdown",
   "metadata": {},
   "source": [
    "The following introduction to NumPy is based on the following article:\n",
    "    http://www.datadependence.com/2016/05/scientific-python-numpy/\n",
    "    \n",
    "For futher details refer to the official quickstart documentation:\n",
    "https://docs.scipy.org/doc/numpy-dev/user/quickstart.html\n",
    "\n",
    "# Initialization of NumPy Arrays (ndArray or tensor)\n",
    "\n",
    "You can initialize a one-dimensional NumPy array, for example, by passing a list or a tuple to `np.array`. Or you can even make a zero dimensional array by passing a scalar value."
   ]
  },
  {
   "cell_type": "code",
   "execution_count": 4,
   "metadata": {},
   "outputs": [
    {
     "name": "stdout",
     "output_type": "stream",
     "text": [
      "tensor axis (or dimensions) of the 3 ndArrays are:\n",
      " a shape: () a dimension: 0,\n",
      " b shape: (2,) b dimension: 1,\n",
      " c shape: (2, 2) c dimension: 2,\n"
     ]
    }
   ],
   "source": [
    "import numpy as np\n",
    "a = np.array(4)\n",
    "b = np.array([3,4])\n",
    "c = np.array([[3,4],[5,6]])\n",
    "print(f'tensor axis (or dimensions) of the 3 ndArrays are:\\n a shape: {a.shape} a dimension: {a.ndim},\\n b shape: {b.shape} b dimension: {b.ndim},\\n c shape: {c.shape} c dimension: {c.ndim},')"
   ]
  },
  {
   "cell_type": "code",
   "execution_count": 2,
   "metadata": {},
   "outputs": [
    {
     "name": "stdout",
     "output_type": "stream",
     "text": [
      "[0 1 2 3 4]\n",
      "[0, 1, 2, 3, 4]\n"
     ]
    }
   ],
   "source": [
    "import numpy as np\n",
    "\n",
    "\n",
    "a = np.array([0, 1, 2, 3, 4])\n",
    "b = np.array((0, 1, 2, 3, 4))\n",
    "\n",
    "print(a)\n",
    "print(list(b))"
   ]
  },
  {
   "cell_type": "markdown",
   "metadata": {},
   "source": [
    "Alternatively, you can create a one-dimensional NumPy array with the `np.arange` function, which is similar to its counterpart `range` in the standard library. Read it's documentation with `np.arange?`."
   ]
  },
  {
   "cell_type": "code",
   "execution_count": 3,
   "metadata": {},
   "outputs": [
    {
     "name": "stdout",
     "output_type": "stream",
     "text": [
      "[ 9 12 15 18 21 24 27]\n",
      "[9, 12, 15, 18, 21, 24, 27]\n",
      "[9, 12, 15, 18, 21, 24, 27]\n"
     ]
    }
   ],
   "source": [
    "c = np.arange(9, 30, 3)\n",
    "d = list(range(9, 30, 3))\n",
    "print(c)\n",
    "print(list(c))\n",
    "print(d)"
   ]
  },
  {
   "cell_type": "markdown",
   "metadata": {},
   "source": [
    "Similar to `np.arange`, `np.linspace` creates an array of evenly spaced numbers over a specified interval."
   ]
  },
  {
   "cell_type": "code",
   "execution_count": 4,
   "metadata": {},
   "outputs": [
    {
     "name": "stdout",
     "output_type": "stream",
     "text": [
      "[0.         1.57079633 3.14159265 4.71238898 6.28318531]\n"
     ]
    }
   ],
   "source": [
    "# linspace\n",
    "pi_steps = np.linspace(0, 2 * np.pi, 5) # args: start, end, number of elements to produce. returns array of number of elements evenly spaced between start and end.\n",
    "print(pi_steps)"
   ]
  },
  {
   "cell_type": "markdown",
   "metadata": {},
   "source": [
    "## Indexing Elements"
   ]
  },
  {
   "cell_type": "code",
   "execution_count": 5,
   "metadata": {},
   "outputs": [
    {
     "name": "stdout",
     "output_type": "stream",
     "text": [
      "[ 9 12 15 18 21 24 27]\n",
      "9\n",
      "12\n",
      "[15 18 21 24]\n",
      "[12 18 24]\n"
     ]
    }
   ],
   "source": [
    "print(c)\n",
    "print(c[0])  # Get element at index position 0\n",
    "print(c[1])  # Get element at index position 1\n",
    "print(c[2:6])  # Get subarray from index pos. 2 to excluding index pos. 6\n",
    "print(c[1:-1:2])  # Get every second element from subarray (omitting first and last)"
   ]
  },
  {
   "cell_type": "markdown",
   "metadata": {},
   "source": [
    "# Multi-Dimensional Arrays\n",
    "\n",
    "You can initialize multi-dimensional arrays either explicitely as in the following."
   ]
  },
  {
   "cell_type": "code",
   "execution_count": 7,
   "metadata": {},
   "outputs": [
    {
     "name": "stdout",
     "output_type": "stream",
     "text": [
      "(3, 4)\n",
      "(3, 3, 4)\n",
      "aggregation over axis 0: [12 15 18 21]. Each column\n",
      "aggregation over axis 1: [ 6 22 38]. Each row\n"
     ]
    }
   ],
   "source": [
    "two_dim = np.array([[ 0,  1,  2,  3],\n",
    "                    [ 4,  5,  6,  7],\n",
    "                    [ 8,  9, 10, 11]])\n",
    "\n",
    "three_dim = np.array([[[ 0,  1,  2,  3],\n",
    "                       [ 4,  5,  6,  7],\n",
    "                       [ 8,  9, 10, 11]],\n",
    "\n",
    "                      [[12, 13, 14, 15],\n",
    "                       [16, 17, 18, 19],\n",
    "                       [20, 21, 22, 23]],\n",
    "\n",
    "                      [[24, 25, 26, 27],\n",
    "                       [28, 29, 30, 31],\n",
    "                       [32, 33, 34, 35]]])\n",
    "print(two_dim.shape)\n",
    "print(three_dim.shape)\n",
    "print(f'aggregation over axis 0: {two_dim.sum(axis=0)}. Each column')\n",
    "print(f'aggregation over axis 1: {two_dim.sum(axis=1)}. Each row')"
   ]
  },
  {
   "cell_type": "markdown",
   "metadata": {},
   "source": [
    "Or you create a one-dimensional array, which you `reshape` into the desired form."
   ]
  },
  {
   "cell_type": "code",
   "execution_count": 1,
   "metadata": {},
   "outputs": [
    {
     "ename": "NameError",
     "evalue": "name 'np' is not defined",
     "output_type": "error",
     "traceback": [
      "\u001b[0;31m---------------------------------------------------------------------------\u001b[0m",
      "\u001b[0;31mNameError\u001b[0m                                 Traceback (most recent call last)",
      "\u001b[0;32m<ipython-input-1-e2711e6e24d8>\u001b[0m in \u001b[0;36m<module>\u001b[0;34m\u001b[0m\n\u001b[0;32m----> 1\u001b[0;31m \u001b[0ma\u001b[0m \u001b[0;34m=\u001b[0m \u001b[0mnp\u001b[0m\u001b[0;34m.\u001b[0m\u001b[0marange\u001b[0m\u001b[0;34m(\u001b[0m\u001b[0;36m11\u001b[0m\u001b[0;34m,\u001b[0m \u001b[0;36m36\u001b[0m\u001b[0;34m)\u001b[0m\u001b[0;34m.\u001b[0m\u001b[0mreshape\u001b[0m\u001b[0;34m(\u001b[0m\u001b[0;36m5\u001b[0m\u001b[0;34m,\u001b[0m \u001b[0;36m5\u001b[0m\u001b[0;34m)\u001b[0m\u001b[0;34m\u001b[0m\u001b[0;34m\u001b[0m\u001b[0m\n\u001b[0m\u001b[1;32m      2\u001b[0m \u001b[0;34m\u001b[0m\u001b[0m\n\u001b[1;32m      3\u001b[0m \u001b[0mprint\u001b[0m\u001b[0;34m(\u001b[0m\u001b[0ma\u001b[0m\u001b[0;34m)\u001b[0m\u001b[0;34m\u001b[0m\u001b[0;34m\u001b[0m\u001b[0m\n\u001b[1;32m      4\u001b[0m \u001b[0mprint\u001b[0m\u001b[0;34m(\u001b[0m\u001b[0ma\u001b[0m\u001b[0;34m[\u001b[0m\u001b[0;36m0\u001b[0m\u001b[0;34m,\u001b[0m \u001b[0;36m2\u001b[0m\u001b[0;34m]\u001b[0m\u001b[0;34m)\u001b[0m \u001b[0;31m# print the 3 value of the first subarray\u001b[0m\u001b[0;34m\u001b[0m\u001b[0;34m\u001b[0m\u001b[0m\n\u001b[1;32m      5\u001b[0m \u001b[0mprint\u001b[0m\u001b[0;34m(\u001b[0m\u001b[0ma\u001b[0m\u001b[0;34m.\u001b[0m\u001b[0mshape\u001b[0m\u001b[0;34m)\u001b[0m\u001b[0;34m\u001b[0m\u001b[0;34m\u001b[0m\u001b[0m\n",
      "\u001b[0;31mNameError\u001b[0m: name 'np' is not defined"
     ]
    }
   ],
   "source": [
    "a = np.arange(11, 36).reshape(5, 5)\n",
    "\n",
    "print(a)\n",
    "print(a[0, 2]) # print the 3 value of the first subarray\n",
    "print(a.shape)\n",
    "np.arange(12).reshape(3, 4)\n"
   ]
  },
  {
   "cell_type": "code",
   "execution_count": 49,
   "metadata": {},
   "outputs": [
    {
     "data": {
      "text/plain": [
       "array([[0, 1, 2, 3, 4],\n",
       "       [5, 6, 7, 8, 9]])"
      ]
     },
     "execution_count": 49,
     "metadata": {},
     "output_type": "execute_result"
    }
   ],
   "source": [
    "b = np.arange(0,10).reshape(2,5)\n",
    "b"
   ]
  },
  {
   "cell_type": "markdown",
   "metadata": {},
   "source": [
    "When defining shapes the shape coordinates are given in the order '*y*', '*x*' for two-dimensional arrays, '*z*', '*y*', '*x*' for three-dimensional arrays, and so on."
   ]
  },
  {
   "cell_type": "code",
   "execution_count": 8,
   "metadata": {},
   "outputs": [
    {
     "name": "stdout",
     "output_type": "stream",
     "text": [
      "[[[ 0  1  2  3  4]\n",
      "  [ 5  6  7  8  9]\n",
      "  [10 11 12 13 14]]\n",
      "\n",
      " [[15 16 17 18 19]\n",
      "  [20 21 22 23 24]\n",
      "  [25 26 27 28 29]]\n",
      "\n",
      " [[30 31 32 33 34]\n",
      "  [35 36 37 38 39]\n",
      "  [40 41 42 43 44]]\n",
      "\n",
      " [[45 46 47 48 49]\n",
      "  [50 51 52 53 54]\n",
      "  [55 56 57 58 59]]]\n",
      "(4, 3, 5)\n"
     ]
    }
   ],
   "source": [
    "a = np.arange(60).reshape((4,3,5)) # z=4,y=3,x=5 \n",
    "print(a)\n",
    "print(a.shape)"
   ]
  },
  {
   "cell_type": "markdown",
   "metadata": {},
   "source": [
    "## Index and slicing elements of multi-dimensional arrays\n",
    "\n",
    "  * How does one create a 2D-array as in the following with NumPy?\n",
    "  * How to select the highlighted data?"
   ]
  },
  {
   "cell_type": "markdown",
   "metadata": {},
   "source": [
    "![slicing_img](images/numpy_2D_slicing_diagram_task.png)"
   ]
  },
  {
   "cell_type": "code",
   "execution_count": 9,
   "metadata": {},
   "outputs": [
    {
     "name": "stdout",
     "output_type": "stream",
     "text": [
      "red: [12 13 14] \n",
      "blue: [16 21 26] \n",
      "green:\n",
      " [[11 13 15]\n",
      " [21 23 25]\n",
      " [31 33 35]] \n",
      "purple: [12 17 22 27 32]\n"
     ]
    }
   ],
   "source": [
    "a = np.arange(11, 36).reshape(5, 5)\n",
    "# explanation: comma separates the arrays and colon does the positional selection\n",
    "# 2dArray[rows, columns]\n",
    "# double colon: get every n^th value e.g. ::2 menas print every second value and 2::3 means get every third value starting from third pos.\n",
    "red    = a[0, 1:4]  # get one-dim. subarray of row 0, start:1 (pos=2) end:4 (not included, pos=4)\n",
    "blue   = a[1:4, 0]  # get one-dim. subarrays (index 1,2,3) of column 0\n",
    "green  = a[::2,::2] # get a two-dim. subarray of every second element by row and column\n",
    "purple = a[:, 1]    # get the second column\n",
    "\n",
    "print('red:',red,'\\nblue:',blue,'\\ngreen:\\n',green,'\\npurple:',purple)"
   ]
  },
  {
   "cell_type": "markdown",
   "metadata": {},
   "source": [
    "### Class exercise: table\n",
    "![](images/numpy_slice_ex.png)\n",
    "- on the above image find the 5 different slicings using only the array slicing notation"
   ]
  },
  {
   "cell_type": "code",
   "execution_count": 58,
   "metadata": {},
   "outputs": [
    {
     "name": "stdout",
     "output_type": "stream",
     "text": [
      "Gul: 10 \n",
      "LyseBlå: [11 16 21 26] \n",
      "rød: [11 12 13] \n",
      "grøn: [12 17 22] \n",
      "LyseBlå 2: [13 18 23 28] \n",
      "Blå: [14 24]\n"
     ]
    }
   ],
   "source": [
    "import numpy as np\n",
    "\n",
    "a = np.arange(10, 30).reshape(4, 5)\n",
    "gul = a[0,0]\n",
    "lyseblå = a[0:,1]\n",
    "rød = a[0,1:4]\n",
    "grøn = a[0:3,2]\n",
    "lyseblå2 = a[0:4,3]\n",
    "blå = a[0::2,4]\n",
    "\n",
    "print(\"Gul:\", gul, \"\\nLyseBlå:\", lyseblå, \"\\nrød:\", rød, \"\\ngrøn:\", grøn, \"\\nLyseBlå 2:\", lyseblå2, \"\\nBlå:\", blå)\n"
   ]
  },
  {
   "cell_type": "markdown",
   "metadata": {},
   "source": [
    "## 3D\n",
    "#### reshape can be done with multiple dimensions. Here is an example with 3d  \n",
    "`a = np.arange(0, 27).reshape((3, 3, 3))`  \n",
    "![](images/cube.png)"
   ]
  },
  {
   "cell_type": "code",
   "execution_count": 10,
   "metadata": {},
   "outputs": [
    {
     "name": "stdout",
     "output_type": "stream",
     "text": [
      "1st row (x-values): \n",
      " [0 1 2] \n",
      "---------\n",
      "1st collumn (y-values, where x==0): \n",
      " [0 3 6] \n",
      "---------\n",
      "1st depth (z-values, where y==0 and x==0): \n",
      " [ 0  9 18] \n",
      "---------\n",
      "value of first side, second slice, third piece:\n",
      " 5 \n",
      "-------------\n",
      "values of all x*z where y=2\n",
      " [[ 6  7  8]\n",
      " [15 16 17]\n",
      " [24 25 26]] \n",
      "----------\n",
      "all z and y values where x = 2: \n",
      " [[ 2  5  8]\n",
      " [11 14 17]\n",
      " [20 23 26]] \n",
      "--------\n",
      "skip each second z,y,x: \n",
      " [[[ 0  2]\n",
      "  [ 6  8]]\n",
      "\n",
      " [[18 20]\n",
      "  [24 26]]]\n"
     ]
    }
   ],
   "source": [
    "a = np.arange(0, 27).reshape((3, 3, 3)) # = (z, y, x)\n",
    "#print('whole cube: \\n',a, '\\n---------------')\n",
    "\n",
    "print('1st row (x-values): \\n',a[0,0,:],'\\n---------')\n",
    "print('1st collumn (y-values, where x==0): \\n',a[0,:,0],'\\n---------')\n",
    "print('1st depth (z-values, where y==0 and x==0): \\n',a[:,0,0],'\\n---------')\n",
    "print('value of first side, second slice, third piece:\\n',a[0, 1, 2], '\\n-------------')  # equal to a[0][1][2] = 5\n",
    "print('values of all x*z where y=2\\n',a[:,2], '\\n----------')  # equivivalent to a[:,2,:] all z, y=2, all x.\n",
    "print('all z and y values where x = 2: \\n',a[:,:,2], '\\n--------')  # \n",
    "print('skip each second z,y,x: \\n',a[::2,::2,::2])  # all z (skip each second) and all y (skip each second) etc."
   ]
  },
  {
   "cell_type": "markdown",
   "metadata": {},
   "source": [
    "### Class exercise: cube\n",
    "1. Slice out [12 13 14] from the above cube using only one slice. e.g: a[:,:,:]\n",
    "2. Slice out [3 12 21].\n",
    "3. Slice out all y-values where x is 2 and z is 0."
   ]
  },
  {
   "cell_type": "code",
   "execution_count": 50,
   "metadata": {},
   "outputs": [
    {
     "name": "stdout",
     "output_type": "stream",
     "text": [
      "[12 13 14]\n",
      "[ 3 12 21]\n",
      "[2 5 8]\n"
     ]
    }
   ],
   "source": [
    "%reload_ext autoreload\n",
    "# %aimport solutions.numpy_ex\n",
    "from my_notebooks.solutions import numpy_ex as nump\n",
    "nump.cube_ex()"
   ]
  },
  {
   "cell_type": "markdown",
   "metadata": {},
   "source": [
    "### Properties of the numpy array"
   ]
  },
  {
   "cell_type": "code",
   "execution_count": 12,
   "metadata": {},
   "outputs": [
    {
     "name": "stdout",
     "output_type": "stream",
     "text": [
      "type:  <class 'numpy.ndarray'>\n",
      "dtype int8\n",
      "size 60\n",
      "shape (4, 3, 5)\n",
      "itemsize:  1\n",
      "ndim:  3\n",
      "nbytes:  60\n"
     ]
    }
   ],
   "source": [
    "a = np.arange(10, 70, dtype=np.int8).reshape((4,3,5))\n",
    "\n",
    "print('type: ',type(a))\n",
    "print('dtype',a.dtype)\n",
    "print('size',a.size)\n",
    "print('shape',a.shape)\n",
    "print('itemsize: ',a.itemsize)\n",
    "print('ndim: ',a.ndim)\n",
    "print('nbytes: ',a.nbytes)"
   ]
  },
  {
   "cell_type": "markdown",
   "metadata": {},
   "source": [
    "## Basic Operators"
   ]
  },
  {
   "cell_type": "code",
   "execution_count": 8,
   "metadata": {},
   "outputs": [
    {
     "name": "stdout",
     "output_type": "stream",
     "text": [
      "[[1. 1. 1.]\n",
      " [1. 1. 1.]\n",
      " [1. 1. 1.]] \n",
      "-------------\n",
      "a float64:\n",
      " [[1. 1. 1.]\n",
      " [2. 2. 2.]\n",
      " [3. 3. 3.]]\n",
      "b int64:\n",
      " [[0 1 2]\n",
      " [3 4 5]\n",
      " [6 7 8]]\n"
     ]
    }
   ],
   "source": [
    "# np.ones()\n",
    "a = np.ones((3, 3))\n",
    "print(a, '\\n-------------')\n",
    "a[1] = 2 # asign value to multiple cells\n",
    "a[2] = 3\n",
    "b = np.arange(9).reshape(3, 3)\n",
    "\n",
    "print(f'a {a.dtype}:\\n',a)\n",
    "print(f'b {b.dtype}:\\n',b)"
   ]
  },
  {
   "cell_type": "code",
   "execution_count": 14,
   "metadata": {},
   "outputs": [
    {
     "name": "stdout",
     "output_type": "stream",
     "text": [
      "a: \n",
      " [[1 1 1]\n",
      " [2 2 2]\n",
      " [3 3 3]]\n",
      "b: \n",
      " [[0 1 2]\n",
      " [3 4 5]\n",
      " [6 7 8]]\n",
      "a+b: \n",
      " [[ 1  2  3]\n",
      " [ 5  6  7]\n",
      " [ 9 10 11]]\n"
     ]
    }
   ],
   "source": [
    "# assign values to all cells in a row\n",
    "import numpy as np\n",
    "a = np.ones((3, 3), dtype=int)\n",
    "a[1] = 2\n",
    "a[2] = 3\n",
    "b = np.arange(9).reshape(3, 3)\n",
    "\n",
    "print('a: \\n',a)\n",
    "print('b: \\n',b) \n",
    "\n",
    "print('a+b: \\n',a + b) # sum values on each index"
   ]
  },
  {
   "cell_type": "code",
   "execution_count": 15,
   "metadata": {},
   "outputs": [
    {
     "name": "stdout",
     "output_type": "stream",
     "text": [
      "[[ 1  0 -1]\n",
      " [-1 -2 -3]\n",
      " [-3 -4 -5]]\n"
     ]
    }
   ],
   "source": [
    "print(a - b)"
   ]
  },
  {
   "cell_type": "code",
   "execution_count": 16,
   "metadata": {},
   "outputs": [
    {
     "name": "stdout",
     "output_type": "stream",
     "text": [
      "[[ 0  1  2]\n",
      " [ 6  8 10]\n",
      " [18 21 24]]\n"
     ]
    }
   ],
   "source": [
    "print(a * b)"
   ]
  },
  {
   "cell_type": "code",
   "execution_count": 17,
   "metadata": {},
   "outputs": [
    {
     "name": "stdout",
     "output_type": "stream",
     "text": [
      "[[0.         1.         2.        ]\n",
      " [1.5        2.         2.5       ]\n",
      " [2.         2.33333333 2.66666667]]\n"
     ]
    }
   ],
   "source": [
    "print(b / a)"
   ]
  },
  {
   "cell_type": "code",
   "execution_count": 18,
   "metadata": {},
   "outputs": [
    {
     "name": "stdout",
     "output_type": "stream",
     "text": [
      "[[1 1 1]\n",
      " [4 4 4]\n",
      " [9 9 9]]\n"
     ]
    }
   ],
   "source": [
    "print(a ** 2)"
   ]
  },
  {
   "cell_type": "code",
   "execution_count": 55,
   "metadata": {},
   "outputs": [
    {
     "name": "stdout",
     "output_type": "stream",
     "text": [
      "a [2 3 4 5 6]\n",
      "b [[0 1 2 3 4]\n",
      " [5 6 7 8 9]]\n",
      "[[False False False False False]\n",
      " [ True  True  True  True  True]]\n"
     ]
    }
   ],
   "source": [
    "a = np.arange(2,7)\n",
    "print('a',a)\n",
    "print('b',b)\n",
    "print(a < b)"
   ]
  },
  {
   "cell_type": "code",
   "execution_count": 20,
   "metadata": {
    "scrolled": true
   },
   "outputs": [
    {
     "name": "stdout",
     "output_type": "stream",
     "text": [
      "[[ True False False]\n",
      " [False False False]\n",
      " [False False False]]\n"
     ]
    }
   ],
   "source": [
    "print(a > b)"
   ]
  },
  {
   "cell_type": "code",
   "execution_count": 11,
   "metadata": {},
   "outputs": [
    {
     "data": {
      "text/plain": [
       "array([[0, 2, 4, 6, 8],\n",
       "       [5, 6, 7, 8, 9]])"
      ]
     },
     "execution_count": 11,
     "metadata": {},
     "output_type": "execute_result"
    }
   ],
   "source": [
    "# elementwize comparing a 1d with a 2d tensor by \"broadcasting\" the 1d array n number of times where n== first axis of the 2d array\n",
    "a = np.arange(0,10,2)\n",
    "b = np.arange(0,10).reshape(2,5)\n",
    "np.maximum(a,b)"
   ]
  },
  {
   "cell_type": "code",
   "execution_count": 56,
   "metadata": {},
   "outputs": [
    {
     "name": "stdout",
     "output_type": "stream",
     "text": [
      "adding all the products a[0,0]*b[0,0]+a[1,0]*b[1,0]...\n",
      " 14\n",
      "adding all the products a[0,0]*b[0,0]+a[1,0]*b[1,0]...\n",
      " 14\n"
     ]
    }
   ],
   "source": [
    "array_a = np.array([1,2,3]) \n",
    "array_b = np.array([1,2,3]) \n",
    "\n",
    "print('adding all the products a[0,0]*b[0,0]+a[1,0]*b[1,0]...\\n'\n",
    "      ,np.dot(array_a, array_b))\n",
    "\n",
    "print('adding all the products a[0,0]*b[0,0]+a[1,0]*b[1,0]...\\n'\n",
    "      ,array_a.dot(array_b))\n"
   ]
  },
  {
   "cell_type": "code",
   "execution_count": 22,
   "metadata": {},
   "outputs": [
    {
     "name": "stdout",
     "output_type": "stream",
     "text": [
      "a:\n",
      " [[1 1 1]\n",
      " [2 2 2]\n",
      " [3 3 3]]\n",
      "row 2 and 3:\n",
      " [[2 2 2]\n",
      " [3 3 3]]\n",
      "equals:\n",
      " [[ True  True  True]\n",
      " [ True  True  True]]\n",
      "sum all cells in first column 6\n",
      "cumulated sum:\n",
      " [ 1  2  3  5  7  9 12 15 18]\n",
      "minimum cell value:\n",
      " 1\n",
      "maximum cell value:\n",
      " 3\n"
     ]
    }
   ],
   "source": [
    "print('a:\\n',a)\n",
    "print('row 2 and 3:\\n',a[1:5]) # 5 does not exist, but no exception\n",
    "print('equals:\\n',a[1:4,:]==a[1:4])\n",
    "print('sum all cells in first column',a[0:3,0].sum())\n",
    "print('cumulated sum:\\n',a.cumsum())\n",
    "print('minimum cell value:\\n',a.min())\n",
    "print('maximum cell value:\\n',a.max())"
   ]
  },
  {
   "cell_type": "markdown",
   "metadata": {},
   "source": [
    "## Fancy Indexing\n",
    "\n"
   ]
  },
  {
   "cell_type": "code",
   "execution_count": 23,
   "metadata": {},
   "outputs": [
    {
     "name": "stdout",
     "output_type": "stream",
     "text": [
      "data:\t\t\t [ 0 10 20 30 40 50 60 70 80 90]\n",
      "indices:\t\t [ 1  5 -1]\n",
      "data of indices:\t [10 50 90]\n"
     ]
    }
   ],
   "source": [
    "# use one np array as indices for another\n",
    "import numpy as np\n",
    "a = np.arange(0, 100, 10)\n",
    "indices = np.array([1, 5, -1]) # or np.array([1,-1,3]) is also acceptable\n",
    "print('data:\\t\\t\\t',a)\n",
    "print('indices:\\t\\t',indices)\n",
    "\n",
    "print('data of indices:\\t',a[indices])"
   ]
  },
  {
   "cell_type": "markdown",
   "metadata": {},
   "source": [
    "## Boolean masking is useful\n",
    "retrieving only the numbers that matches the condition. The mask is a condition\n",
    "and `a[mask]` is the part of a[] that matches the condition.\n",
    "\n"
   ]
  },
  {
   "cell_type": "code",
   "execution_count": 24,
   "metadata": {},
   "outputs": [
    {
     "data": {
      "text/plain": [
       "[<matplotlib.lines.Line2D at 0x7fc999482790>]"
      ]
     },
     "execution_count": 24,
     "metadata": {},
     "output_type": "execute_result"
    },
    {
     "data": {
      "image/png": "[encoded data removed]",
      "text/plain": [
       "<Figure size 432x288 with 1 Axes>"
      ]
     },
     "metadata": {
      "needs_background": "light"
     },
     "output_type": "display_data"
    }
   ],
   "source": [
    "# X=Having 50 values between 0-2*pi, Y=sinus values to x\n",
    "import matplotlib.pyplot as plt\n",
    " \n",
    "xs = np.linspace(0, 2 * np.pi, 50)\n",
    "ys = np.sin(xs)\n",
    "#print(xs,'\\n',ys, '\\n',len(ys))\n",
    "plt.plot(xs, ys)"
   ]
  },
  {
   "cell_type": "code",
   "execution_count": 57,
   "metadata": {},
   "outputs": [
    {
     "name": "stdout",
     "output_type": "stream",
     "text": [
      "[ True  True  True  True  True  True  True  True  True  True  True  True\n",
      "  True  True  True  True  True  True  True  True  True  True  True  True\n",
      "  True False False False False False False False False False False False\n",
      " False False False False False False False False False False False False\n",
      " False False]\n"
     ]
    },
    {
     "data": {
      "image/png": "[encoded data removed]",
      "text/plain": [
       "<Figure size 432x288 with 1 Axes>"
      ]
     },
     "metadata": {
      "needs_background": "light"
     },
     "output_type": "display_data"
    }
   ],
   "source": [
    "mask = ys >= 0                        # condition for the blue crosses\n",
    "# print(mask)\n",
    "plt.plot(xs[mask], ys[mask], 'bx')    # rendering the blue plots only with filtered values\n",
    "mask = (ys < 0)                       # condition for the green dots\n",
    "plt.plot(xs[mask], ys[mask], 'go')    # condition applied to xs and ys data sets\n",
    "plt.show()"
   ]
  },
  {
   "cell_type": "markdown",
   "metadata": {},
   "source": [
    "## Other types of Indexing\n",
    "\n",
    "As we saw above, you can omit index numbers, which then default to index 0 or index for the last element of the array."
   ]
  },
  {
   "cell_type": "code",
   "execution_count": 26,
   "metadata": {},
   "outputs": [
    {
     "name": "stdout",
     "output_type": "stream",
     "text": [
      "a:\n",
      " [ 0 10 20 30 40 50 60 70 80 90] \n",
      "b:\n",
      " [ 0 10 20 30 40] \n",
      ":c\n",
      " [50 60 70 80 90] \n",
      "d:\n",
      " [ 0 20 60 80] \n",
      "e:\n",
      " [0 None 20 None None None 60 None 80 None]\n"
     ]
    }
   ],
   "source": [
    "a = np.arange(0, 100, 10)\n",
    "b = a[:5]                       # when first index is 0 we can omit it.\n",
    "c = a[a >= 50]                  # mask provided to filter all values below 50\n",
    "d = a[(a%20 == 0) & (a != 40)]  # more complex conditinal mask\n",
    "e = np.where((a%20 == 0) & (a != 40), a, None) # mask condition like ternary operator\n",
    "\n",
    "print('a:\\n',a,'\\nb:\\n',b,'\\n:c\\n',c,'\\nd:\\n',d,'\\ne:\\n',e)"
   ]
  },
  {
   "cell_type": "markdown",
   "metadata": {},
   "source": [
    "## Where\n",
    "\n",
    "the `where()` function is another useful way of retrieving elements of an array conditionally. Simply pass it a condition and it will return a tuple of lists of elements where that condition is true."
   ]
  },
  {
   "cell_type": "code",
   "execution_count": 27,
   "metadata": {},
   "outputs": [
    {
     "name": "stdout",
     "output_type": "stream",
     "text": [
      "a contains all values:  [ 0 10 20 30 40 50 60 70 80 90]\n",
      "b contains the indices of the filtered values:  (array([0, 1, 2, 3, 4]),) <class 'tuple'>\n",
      "c contains the filtered values: in [5 6 7 8 9] <class 'numpy.ndarray'>\n",
      "using the indices returned by np.where to get the values:\n",
      " [50 60 70 80 90]\n"
     ]
    }
   ],
   "source": [
    "a = np.arange(0, 100, 10)\n",
    "b = np.where(a < 50)     # returns a tuple\n",
    "c = np.where(a >= 50)[0] # returns an array (first element of the tuple is the data array)\n",
    "\n",
    "print('a contains all values: ',a)\n",
    "print('b contains the indices of the filtered values: ',b,type(b))\n",
    "print('c contains the filtered values: in',c,type(c))\n",
    "print('using the indices returned by np.where to get the values:\\n',a[c])"
   ]
  },
  {
   "cell_type": "markdown",
   "metadata": {},
   "source": [
    "### Class exercise: masking\n",
    "- For the dataset: `data = np.arange(1,101).reshape(10,10)`\n",
    "  - apply a mask that will return only the even numbers\n",
    "  - using `np.where()` return only numbers that ends with 6\n",
    "  - using the operators: `%` and `|` mask to only get numbers that are divisible by 3 and numbers begining with 8\n"
   ]
  },
  {
   "cell_type": "code",
   "execution_count": 80,
   "metadata": {},
   "outputs": [
    {
     "name": "stdout",
     "output_type": "stream",
     "text": [
      "[  2   4   6   8  10  12  14  16  18  20  22  24  26  28  30  32  34  36\n",
      "  38  40  42  44  46  48  50  52  54  56  58  60  62  64  66  68  70  72\n",
      "  74  76  78  80  82  84  86  88  90  92  94  96  98 100]\n",
      "[[False False False False False  True False False False False]\n",
      " [False False False False False  True False False False False]\n",
      " [False False False False False  True False False False False]\n",
      " [False False False False False  True False False False False]\n",
      " [False False False False False  True False False False False]\n",
      " [False False False False False  True False False False False]\n",
      " [False False False False False  True False False False False]\n",
      " [False False False False False  True False False False False]\n",
      " [False False False False False  True False False False False]\n",
      " [False False False False False  True False False False False]]\n",
      "[ 6 16 26 36 46 56 66 76 86 96]\n"
     ]
    }
   ],
   "source": [
    "data = np.arange(1,101).reshape(10,10)\n",
    "\n",
    "even_values=data[data%2==0]\n",
    "print(even_values)\n",
    "\n",
    "mask_six =  data % 10 == 6\n",
    "print(mask_six)\n",
    "\n",
    "ends_with_six = np.where(mask_six)\n",
    "\n",
    "print(data[ends_with_six])\n"
   ]
  },
  {
   "cell_type": "markdown",
   "metadata": {},
   "source": [
    "# Why do we care about NumPy?\n",
    "\n",
    "Because we want to get things done. As you remember from the last session about plotting, we had to write quite a bit of code to compute the histograms for the age distribution within Copenhagen citizens per year.\n",
    "\n",
    "By representing our input data as a matrix, i.e., a two-dimensional array, and using boolean indexing, we can generate for example the histograms way more concisely and with way fewer lines of code."
   ]
  },
  {
   "cell_type": "code",
   "execution_count": 28,
   "metadata": {},
   "outputs": [
    {
     "name": "stdout",
     "output_type": "stream",
     "text": [
      "AAR,BYDEL,ALDER,STATKODE,PERSONER\r\n",
      "2015,1,0,5100,614\r\n",
      "2015,1,0,5104,2\r\n",
      "2015,1,0,5106,1\r\n",
      "2015,1,0,5110,1\r\n",
      "2015,1,0,5120,4\r\n",
      "2015,1,0,5126,1\r\n",
      "2015,1,0,5130,5\r\n",
      "2015,1,0,5140,3\r\n",
      "2015,1,0,5150,5\r\n"
     ]
    }
   ],
   "source": [
    "%%bash\n",
    "head data/befkbhalderstatkode.csv"
   ]
  },
  {
   "cell_type": "code",
   "execution_count": 29,
   "metadata": {},
   "outputs": [
    {
     "name": "stdout",
     "output_type": "stream",
     "text": [
      "<class 'numpy.ndarray'>  of size:  2712585\n",
      "The skip_header=1 means that we have only the data\n",
      "\n",
      "first line:\n",
      " [2015    1    0 5100  614] \n",
      "last line\n",
      " [1992   99   93 5100    1]\n"
     ]
    }
   ],
   "source": [
    "# read data from csv file into 2d numpy array\n",
    "filename = './data/befkbhalderstatkode.csv'\n",
    "\n",
    "bef_stats_df = np.genfromtxt(filename, delimiter=',', dtype=np.uint, skip_header=1)\n",
    "\n",
    "print(type(bef_stats_df),' of size: ',bef_stats_df.size)\n",
    "print('The skip_header=1 means that we have only the data\\n\\nfirst line:\\n',bef_stats_df[0],'\\nlast line\\n',bef_stats_df[len(bef_stats_df)-1])"
   ]
  },
  {
   "cell_type": "code",
   "execution_count": 30,
   "metadata": {},
   "outputs": [
    {
     "data": {
      "text/plain": [
       "array([[1998,    1,    0, 5100,  500],\n",
       "       [1998,    1,    0, 5106,    3],\n",
       "       [1998,    1,    0, 5110,    5],\n",
       "       ...,\n",
       "       [1998,   99,   85, 5100,    1],\n",
       "       [1998,   99,   91, 5100,    1],\n",
       "       [1998,   99,   99, 5100,    1]], dtype=uint64)"
      ]
     },
     "execution_count": 30,
     "metadata": {},
     "output_type": "execute_result"
    }
   ],
   "source": [
    "dd = bef_stats_df\n",
    "mask = (dd[:,0] == 1998) # filter only rows that has value = 1998 in column 0\n",
    "dd[mask]"
   ]
  },
  {
   "cell_type": "markdown",
   "metadata": {},
   "source": [
    "### Amount of 18 years old Danes in CPH?\n",
    "\n",
    "For example, how can we quickly compute the amount of all Danes (`STATKODE == 5100`) with age 18 in **all neighbourhoods** for the year 2015?\n",
    "\n",
    "We just collect that data by expressing it as a conjunction of constraints and subsequently sum it up.\n"
   ]
  },
  {
   "cell_type": "code",
   "execution_count": 31,
   "metadata": {},
   "outputs": [
    {
     "name": "stdout",
     "output_type": "stream",
     "text": [
      "[[2015    1   18 5100  378]\n",
      " [2015    2   18 5100  577]\n",
      " [2015    3   18 5100  513]\n",
      " [2015    4   18 5100  309]\n",
      " [2015    5   18 5100  428]\n",
      " [2015    6   18 5100  349]\n",
      " [2015    7   18 5100  406]\n",
      " [2015    8   18 5100  339]\n",
      " [2015    9   18 5100  359]\n",
      " [2015   10   18 5100  424]\n",
      " [2015   99   18 5100   20]]\n",
      "all the areas {1, 2, 3, 4, 5, 6, 7, 8, 9, 10, 99}\n",
      "18y in each area [378, 577, 513, 309, 428, 349, 406, 339, 359, 424, 20]\n",
      "sum all the cph areas\n",
      " 4102\n"
     ]
    }
   ],
   "source": [
    "mask = (dd[:,0] == 2015) & (dd[:,2] == 18) & (dd[:,3] == 5100)\n",
    "print(dd[mask])\n",
    "print('all the areas',set(dd[:,1]))\n",
    "print('18y in each area',list(dd[mask][:,4]))\n",
    "print('sum all the cph areas\\n',np.sum(dd[mask][:,4]))"
   ]
  },
  {
   "cell_type": "code",
   "execution_count": 32,
   "metadata": {},
   "outputs": [
    {
     "data": {
      "text/plain": [
       "(1.0, 10.0, 300.0, 600.0)"
      ]
     },
     "execution_count": 32,
     "metadata": {},
     "output_type": "execute_result"
    },
    {
     "data": {
      "image/png": "[encoded data removed]",
      "text/plain": [
       "<Figure size 432x288 with 1 Axes>"
      ]
     },
     "metadata": {
      "needs_background": "light"
     },
     "output_type": "display_data"
    }
   ],
   "source": [
    "import matplotlib.pyplot as plt\n",
    "plt.bar(list(set(dd[:,1])), list(dd[mask][:,4]))\n",
    "plt.axis([1,10,300,600])"
   ]
  },
  {
   "cell_type": "markdown",
   "metadata": {},
   "source": [
    "### Distribution of French and Germans in CPH?\n",
    "\n",
    "\n",
    "Similarly, in which neighbourhood lifed the most Frenchmen and Germans respectively in 2015?\n",
    "\n",
    "The following dictionary of neighbourhood codes is created from the explanatory text on the municipalities homepage."
   ]
  },
  {
   "cell_type": "code",
   "execution_count": 33,
   "metadata": {},
   "outputs": [],
   "source": [
    "neighb = {1: 'Indre By', 2: 'Østerbro', 3: 'Nørrebro', 4: 'Vesterbro/Kgs. Enghave', \n",
    "          5: 'Valby', 6: 'Vanløse', 7: 'Brønshøj-Husum', 8: 'Bispebjerg', 9: 'Amager Øst', \n",
    "          10: 'Amager Vest', 99: 'Udenfor'}"
   ]
  },
  {
   "cell_type": "code",
   "execution_count": 34,
   "metadata": {},
   "outputs": [],
   "source": [
    "def number_of_people_per_neighbourhood(n, mask):\n",
    "    all_people_in_given_n = dd[mask & (dd[:,1] == n)]\n",
    "    sum_of_people = all_people_in_given_n[:,4].sum() # index 4 is no of 'PERSONER'\n",
    "    return sum_of_people"
   ]
  },
  {
   "cell_type": "code",
   "execution_count": 35,
   "metadata": {},
   "outputs": [
    {
     "data": {
      "text/plain": [
       "array([544, 557, 653, 474, 258, 166, 197, 314, 372, 460,  26],\n",
       "      dtype=uint64)"
      ]
     },
     "execution_count": 35,
     "metadata": {},
     "output_type": "execute_result"
    }
   ],
   "source": [
    "french_mask = (dd[:,0] == 2015) & (dd[:,3] == 5130)\n",
    "german_mask = (dd[:,0] == 2015) & (dd[:,3] == 5180)\n",
    "\n",
    "french = np.array([number_of_people_per_neighbourhood(n, french_mask) for n in neighb.keys()])\n",
    "#print(french)\n",
    "germans = np.array([number_of_people_per_neighbourhood(n, german_mask) for n in neighb.keys()])\n",
    "germans"
   ]
  },
  {
   "cell_type": "code",
   "execution_count": 36,
   "metadata": {},
   "outputs": [
    {
     "name": "stdout",
     "output_type": "stream",
     "text": [
      "The majority of 346 Frenchmen are living in Indre By\n",
      "The majority of 653 Germans are living in Nørrebro\n"
     ]
    }
   ],
   "source": [
    "index_max_fr = np.argmax(french)\n",
    "index_max_de = np.argmax(germans)\n",
    "\n",
    "msg = 'The majority of {} {} are living in {}'\n",
    "french_neighbourhood_index = list(neighb.keys())[index_max_fr]\n",
    "print(msg.format(french.max(), 'Frenchmen', neighb[french_neighbourhood_index]))\n",
    "print(msg.format(germans.max(), 'Germans', neighb[list(neighb.keys())[index_max_de]]))"
   ]
  },
  {
   "cell_type": "markdown",
   "metadata": {},
   "source": [
    "### From which country came the most imigrants in 2015?\n",
    "\n",
    "Popular belief says that most imigrants come somewhere from the middle-east. But is it true?\n",
    "\n",
    "To answer this question, convert the cuntry code data from Danmarks Statistik (http://www.dst.dk/da/Statistik/dokumentation/Times/forebyggelsesregistret/statkode.aspx) into a Python dictionary."
   ]
  },
  {
   "cell_type": "code",
   "execution_count": 37,
   "metadata": {},
   "outputs": [],
   "source": [
    "country_codes = {0: 'Uoplyst (1)', 5001: 'Uoplyst (2)', 5100: 'Danmark', 5101: 'Grønland', \n",
    "                 5102: 'Udlandet uoplyst', 5103: 'Statsløs', 5104: 'Finland', \n",
    "                 5105: 'Island, ligeret dansk', 5106: 'Island', 5107: 'Liechtenstein', \n",
    "                 5108: 'Luxembourg', 5109: 'Monaco', 5110: 'Norge', 5114: 'Europa uoplyst', \n",
    "                 5115: 'Kongelig', 5120: 'Sverige', 5122: 'Albanien', 5124: 'Andorra', \n",
    "                 5126: 'Belgien', 5128: 'Bulgarien', 5129: 'Tjekkoslovakiet', \n",
    "                 5130: 'Frankrig', 5134: 'Grækenland', 5140: 'Nederlandene', \n",
    "                 5142: 'Irland', 5150: 'Italien', 5151: 'Serbien og Montenegro', \n",
    "                 5152: 'Jugoslavien', 5153: 'Malta', 5154: 'Polen', 5156: 'Portugal', \n",
    "                 5158: 'Rumænien', 5159: 'San Marino', 5160: 'Schweiz', \n",
    "                 5162: 'Sovjetunionen', 5164: 'Spanien', 5170: 'Storbritannien', \n",
    "                 5172: 'Tyrkiet', 5174: 'Ungarn', 5176: 'Vatikanstaten', 5180: 'Tyskland', \n",
    "                 5182: 'Østrig', 5199: 'Europa uoplyst', 5202: 'Algeriet', 5204: 'Angola', \n",
    "                 5207: 'Botswana', 5213: 'Burundi', 5214: 'Etiopien', 5215: 'Comorerne', \n",
    "                 5216: 'Eritrea', 5222: 'Gambia', 5228: 'Ghana', 5230: 'Ækvatorialguinea', \n",
    "                 5231: 'Guinea-Bissau', 5232: 'Guinea', 5233: 'Kap Verde', 5234: 'Kenya', \n",
    "                 5235: 'Lesotho', 5236: 'Liberia', 5238: 'Libyen', 5240: 'Mozambique', \n",
    "                 5242: 'Madagaskar', 5243: 'Mali', 5244: 'Marokko', 5245: 'Mauritius', \n",
    "                 5246: 'Nigeria', 5247: 'Namibia', 5248: 'Marshalløerne', \n",
    "                 5255: 'Sierra Leone', 5258: 'Sudan', 5259: 'Swaziland', 5260: 'Sydsudan', \n",
    "                 5262: 'Sydafrika', 5266: 'Tanzania', 5268: 'Tunesien', 5269: 'Uganda', \n",
    "                 5272: 'Egypten', 5273: 'Tuvalu', 5274: 'Kiribati', 5275: 'Vanuatu', \n",
    "                 5276: 'Centralafrikanske Republik', 5277: 'Cameroun', \n",
    "                 5278: 'Congo, Demokratiske Republik', 5279: 'Congo, Republikken', \n",
    "                 5281: 'Benin', 5282: 'Elfenbenskysten', 5283: 'Gabon', 5284: 'Mauretanien', \n",
    "                 5285: 'Niger', 5287: 'Rwanda', 5288: 'Senegal', 5289: 'Somalia', \n",
    "                 5292: 'Tchad', 5293: 'Togo', 5294: 'Burkina Faso', 5295: 'Zimbabwe', \n",
    "                 5296: 'Zambia', 5297: 'Malawi', 5298: 'Seychellerne', \n",
    "                 5299: 'Afrika uoplyst', 5302: 'Argentina', 5303: 'Bahamas', \n",
    "                 5304: 'Bolivia', 5305: 'Barbados', 5306: 'Brasilien', 5308: 'Guyana', \n",
    "                 5309: 'Antigua og Barbuda', 5310: 'Nauru', \n",
    "                 5311: 'Skt. Vincent og Grenadinerne', 5314: 'Canada', 5316: 'Chile', \n",
    "                 5318: 'Colombia', 5319: 'Syd- og Mellemamerika uoplyst', \n",
    "                 5322: 'Costa Rica', 5324: 'Cuba', 5326: 'Dominikanske Republik', \n",
    "                 5328: 'Ecuador', 5338: 'Guatemala', 5339: 'Grenada', 5342: 'Haiti', \n",
    "                 5344: 'Surinam', 5345: 'Dominica', 5347: 'Skt. Lucia', 5348: 'Honduras', \n",
    "                 5352: 'Jamaica', 5354: 'Mexico', 5356: 'Nicaragua', 5358: 'Panama', \n",
    "                 5364: 'Paraguay', 5366: 'Peru', 5372: 'El Salvador', \n",
    "                 5374: 'Trinidad og Tobago', 5376: 'Uruguay', 5390: 'USA', \n",
    "                 5392: 'Venezuela', 5395: 'Vestindiske Øer', 5397: 'Nordamerika uoplyst', \n",
    "                 5398: 'Syd- og Mellemamerika uoplyst', 5402: 'Yemen', \n",
    "                 5403: 'Forenede Arabiske Emirater', 5404: 'Afghanistan', 5406: 'Bahrain', \n",
    "                 5408: 'Bhutan', 5410: 'Bangladesh', 5412: 'Brunei', 5414: 'Myanmar', \n",
    "                 5416: 'Cambodja', 5418: 'Sri Lanka', 5422: 'Cypern', 5424: 'Taiwan', \n",
    "                 5432: 'Indien', 5434: 'Indonesien', 5435: 'Østtimor', 5436: 'Irak', \n",
    "                 5438: 'Iran', 5442: 'Israel', 5444: 'Japan', 5446: 'Jordan', 5448: 'Kina', \n",
    "                 5452: 'Kuwait', 5454: 'Laos', 5456: 'Libanon', 5457: 'Maldiverne', \n",
    "                 5458: 'Malaysia', 5459: 'Mongoliet', 5462: 'Oman', 5464: 'Nepal', \n",
    "                 5466: 'Nordkorea', 5468: 'Vietnam (1)', 5471: 'Asien uoplyst', \n",
    "                 5472: 'Pakistan', 5474: 'Filippinerne', 5478: 'Saudi-Arabien', \n",
    "                 5482: 'Singapore', 5484: 'Sydkorea', 5486: 'Syrien', \n",
    "                 5487: 'Mellemøsten uoplyst', 5488: 'Vietnam (2)', 5492: 'Thailand', \n",
    "                 5496: 'Qatar', 5499: 'Asien uoplyst', 5502: 'Australien', 5505: 'Tonga', \n",
    "                 5508: 'Fiji', 5514: 'New Zealand', 5522: 'Samoa', 5525: 'Djibouti', \n",
    "                 5526: 'Belize', 5534: 'Papua Ny Guinea', 5599: 'Øer i Stillehavet', \n",
    "                 5607: 'Estland', 5609: 'Letland', 5611: 'Litauen', \n",
    "                 5621: 'Sao Tome og Principe', 5623: 'Salomonøerne', \n",
    "                 5625: 'Skt. Kitts og Nevis', 5700: 'Rusland', 5704: 'Ukraine', \n",
    "                 5706: 'Hviderusland', 5708: 'Armenien', 5710: 'Aserbajdsjan', \n",
    "                 5712: 'Moldova', 5714: 'Usbekistan', 5716: 'Kasakhstan', \n",
    "                 5718: 'Turkmenistan', 5720: 'Kirgisistan', 5722: 'Tadsjikistan', \n",
    "                 5724: 'Georgien', 5750: 'Kroatien', 5752: 'Slovenien', \n",
    "                 5754: 'Bosnien-Hercegovina', 5756: 'Makedonien', 5757: 'Serbien', \n",
    "                 5758: 'Jugoslavien, Forbundsrepublikken', 5759: 'Montenegro', \n",
    "                 5761: 'Kosovo', 5776: 'Tjekkiet', 5778: 'Slovakiet', 5779: 'Cookøerne', \n",
    "                 5800: 'Land ukendt (2)', 5901: 'Færøerne uoplyst', 5902: 'Færøerne', \n",
    "                 5999: 'Land ukendt (1)'}"
   ]
  },
  {
   "cell_type": "code",
   "execution_count": 38,
   "metadata": {},
   "outputs": [],
   "source": [
    "import json\n",
    "with open('data/befkbh_stat_code.json','w') as f:\n",
    "    f.write(json.dumps(country_codes))"
   ]
  },
  {
   "cell_type": "code",
   "execution_count": 39,
   "metadata": {},
   "outputs": [
    {
     "name": "stdout",
     "output_type": "stream",
     "text": [
      "data/befkbh_stat_code.json\r\n"
     ]
    }
   ],
   "source": [
    "!ls data/befkbh_stat_code.json"
   ]
  },
  {
   "cell_type": "code",
   "execution_count": 40,
   "metadata": {},
   "outputs": [
    {
     "data": {
      "text/plain": [
       "array([1992, 1993, 1994, 1995, 1996, 1997, 1998, 1999, 2000, 2001, 2002,\n",
       "       2003, 2004, 2005, 2006, 2007, 2008, 2009, 2010, 2011, 2012, 2013,\n",
       "       2014, 2015], dtype=uint64)"
      ]
     },
     "execution_count": 40,
     "metadata": {},
     "output_type": "execute_result"
    }
   ],
   "source": [
    "# unique years in the dataset:\n",
    "# x = year, \n",
    "unique_years = np.unique(dd[:,0]) # all yś where x is index 0 (which is year)\n",
    "unique_years"
   ]
  },
  {
   "cell_type": "code",
   "execution_count": 41,
   "metadata": {},
   "outputs": [
    {
     "data": {
      "text/plain": [
       "4230"
      ]
     },
     "execution_count": 41,
     "metadata": {},
     "output_type": "execute_result"
    }
   ],
   "source": [
    "# dataset is [year=0, age=1, area=2, nationality=3, amount=4]\n",
    "\n",
    "# unique nationalities/citizenships:\n",
    "c_keys = np.unique(dd[:,3])\n",
    "c_keys = c_keys[c_keys != 5100] #remove danish citizens\n",
    "#print(c_keys)\n",
    "mask_year_2012 = dd[:,0] == 2012\n",
    "mask_swedish = dd[:,3] == 5120\n",
    "\n",
    "#SUM all the swedish people in 2012\n",
    "np.sum(dd[(mask_year_2012) & (mask_swedish)][:,4])\n"
   ]
  },
  {
   "cell_type": "markdown",
   "metadata": {},
   "source": [
    "## Exercise numpy and csv\n",
    "\n",
    "1. load the csv file: befkbhalderstatkode.csv into a numpy ndarray\n",
    "2. How many german children were 0 years old in 2015?\n",
    "3. create a function that can take any combination of the 4 parameters:AAR,BYDEL,ALDER,STATKODE and return population data\n",
    "4. create a new function like previous so that it can sum values for all ages if age is not provided to the function\n",
    "5. further add functionality to sum values if citizenship or area was not provided to function.\n",
    "6. create a new function that can also give average values for each year if year whas not provided.\n",
    "7. create a function, that given year and nationality can return which area had the most of these nationals by that year. Test it by finding out which area had the most Moroccan people in both 1992 and 2015\n",
    "8. Find the Area(s) where fewest foreingers lived in Copenhagen in 1992 and 2015 respectively\n",
    "9. Find out what age most French people have in 2015"
   ]
  },
  {
   "cell_type": "markdown",
   "metadata": {},
   "source": [
    "## Find largest nationality group\n",
    "From the Copenhagen citizen data we will find out 2 things about year 2015:\n",
    "1. What nationality group (beside danish) is the largest\n",
    "2. How many people are in that group\n"
   ]
  },
  {
   "cell_type": "code",
   "execution_count": 58,
   "metadata": {},
   "outputs": [
    {
     "name": "stdout",
     "output_type": "stream",
     "text": [
      "all the country keys:\n",
      " [5001 5102 5103 5104 5105 5106 5107 5108 5110 5115 5120 5122 5126 5128\n",
      " 5129 5130 5134 5140 5142 5150 5151 5152 5153 5154 5156 5158 5159 5160\n",
      " 5162 5164 5170 5172 5174 5180 5182 5202 5204 5207 5213 5214 5215 5216\n",
      " 5222 5228 5231 5232 5233 5234 5235 5236 5238 5240 5242 5243 5244 5245\n",
      " 5246 5247 5255 5258 5259 5262 5266 5268 5269 5272 5275 5277 5278 5279\n",
      " 5281 5282 5283 5284 5285 5287 5288 5289 5292 5293 5294 5295 5296 5297\n",
      " 5298 5299 5302 5303 5304 5305 5306 5308 5311 5314 5316 5318 5322 5324\n",
      " 5326 5328 5338 5339 5342 5344 5345 5347 5348 5352 5354 5356 5358 5364\n",
      " 5366 5372 5374 5376 5390 5392 5402 5403 5404 5406 5408 5410 5412 5414\n",
      " 5416 5418 5422 5424 5432 5434 5436 5438 5442 5444 5446 5448 5452 5454\n",
      " 5456 5457 5458 5459 5462 5464 5466 5472 5474 5478 5482 5484 5486 5487\n",
      " 5488 5492 5496 5499 5502 5505 5508 5514 5522 5525 5526 5607 5609 5611\n",
      " 5625 5700 5704 5706 5708 5710 5712 5714 5716 5718 5720 5722 5724 5750\n",
      " 5752 5754 5756 5757 5758 5759 5761 5776 5778 5902 5999]\n",
      "all the number of people in each citizen group:\n",
      " [   4    9  632  899    2 1968    1   11 4093   15 4745   68  273 1413\n",
      "   23 2156  744  977  565 3069   19 1487   22 3906  849 1891    1  387\n",
      "   51 1999 4523 3792  796 4021  377  132    7    4   48  273    3   50\n",
      "  175  404   16   40    3  151    5   11   12   24    1    9 1499   15\n",
      "  364    5   68  129    3   93  125  199  196  321    0  122   25   25\n",
      "    5   99    2    2    2   29   38 2087    3   32    8   14   31    5\n",
      "    2    2  161    3   29    3  560    3    0  605  223  146   23  152\n",
      "   16   54   29    4    4    0    2    2   12   20  253   27   15    3\n",
      "  137    4   21   17 2534   84   11    1  658    0    8  787    2   47\n",
      "   27   86   24   60 2168  137 2544 1093  192  383  460 2552    4    6\n",
      "  343    1  122    8    7 1692   13 4502 1396    9  128  149  200    3\n",
      "  278 1544    2    1  609    2    2  143    2   12    2  323  585 1348\n",
      "    0  787  447   58   59   28   25   42   36    2    7    2   34  285\n",
      "  102  688 1518  195   57  121  121  217  321    0    1]\n",
      "index (or indices if more) of the largest group:  10\n",
      "c_k: 5120\n",
      "country_name:  Sverige\n",
      "¤¤¤¤¤¤¤¤¤¤¤¤¤¤¤¤¤¤¤¤¤¤¤RESULT¤¤¤¤¤¤¤¤¤¤¤¤¤¤¤¤¤¤¤¤¤¤¤¤¤¤¤¤¤¤¤¤¤\n",
      "4745 inhabitants come from Sverige\n",
      "number pr c group:\n",
      " [   4    9  632  899    2 1968    1   11 4093   15 4745   68  273 1413\n",
      "   23 2156  744  977  565 3069   19 1487   22 3906  849 1891    1  387\n",
      "   51 1999 4523 3792  796 4021  377  132    7    4   48  273    3   50\n",
      "  175  404   16   40    3  151    5   11   12   24    1    9 1499   15\n",
      "  364    5   68  129    3   93  125  199  196  321    0  122   25   25\n",
      "    5   99    2    2    2   29   38 2087    3   32    8   14   31    5\n",
      "    2    2  161    3   29    3  560    3    0  605  223  146   23  152\n",
      "   16   54   29    4    4    0    2    2   12   20  253   27   15    3\n",
      "  137    4   21   17 2534   84   11    1  658    0    8  787    2   47\n",
      "   27   86   24   60 2168  137 2544 1093  192  383  460 2552    4    6\n",
      "  343    1  122    8    7 1692   13 4502 1396    9  128  149  200    3\n",
      "  278 1544    2    1  609    2    2  143    2   12    2  323  585 1348\n",
      "    0  787  447   58   59   28   25   42   36    2    7    2   34  285\n",
      "  102  688 1518  195   57  121  121  217  321    0    1]\n"
     ]
    }
   ],
   "source": [
    "# create a set of conuntry codes with people living in Copenhagen\n",
    "c_keys = np.unique(dd[:,3])\n",
    "# we are interested in non-danes only\n",
    "c_keys = c_keys[c_keys != 5100]\n",
    "print('all the country keys:\\n',c_keys)\n",
    "# and again we only consider 2015\n",
    "mask_year_2015 = (dd[:,0] == 2015)\n",
    "\n",
    "\n",
    "# list comprehension to loop all country codes and sum all citizens by country_code for year 2015\n",
    "number_per_citizen_group = np.array([np.sum(dd[mask_year_2015 & (dd[:,3] == c_code)][:,4]) for c_code in c_keys])\n",
    "print('all the number of people in each citizen group:\\n',number_per_citizen_group)\n",
    "# use np.argmax to find the index of the largest group\n",
    "idx_of_largest_group = np.argmax(number_per_citizen_group)\n",
    "print('index (or indices if more) of the largest group: ',idx_of_largest_group)\n",
    "county_code = c_keys[idx_of_largest_group] # using the index of the largest summed up group and finding the value of that index in another slice of the same dataset\n",
    "print('c_k:',county_code)\n",
    "country_name = country_codes[county_code] # this is a dictionary where key=country_code and value=country name\n",
    "print('country_name: ',country_name)\n",
    "print('¤¤¤¤¤¤¤¤¤¤¤¤¤¤¤¤¤¤¤¤¤¤¤RESULT¤¤¤¤¤¤¤¤¤¤¤¤¤¤¤¤¤¤¤¤¤¤¤¤¤¤¤¤¤¤¤¤¤')\n",
    "print(f'{number_per_citizen_group.max()} inhabitants come from {country_name}')\n",
    "print('number pr c group:\\n',number_per_citizen_group)"
   ]
  },
  {
   "cell_type": "code",
   "execution_count": 65,
   "metadata": {},
   "outputs": [
    {
     "name": "stdout",
     "output_type": "stream",
     "text": [
      "[0, 0, 0, 0, 0, 0, 1, 1, 1, 1, 1, 1, 1, 2, 2, 2, 2, 2, 2, 2, 2, 2, 2, 2, 2, 2, 2, 2, 2, 3, 3, 3, 3, 3, 3, 3, 3, 3, 4, 4, 4, 4, 4, 4, 5, 5, 5, 5, 6, 7, 7, 7, 8, 8, 8, 9, 9, 9, 11, 11, 11, 12, 12, 12, 13, 14, 15, 15, 15, 16, 16, 17, 19, 20, 21, 22, 23, 23, 24, 24, 25, 25, 25, 27, 27, 28, 29, 29, 29, 31, 32, 34, 36, 38, 40, 42, 47, 48, 50, 51, 54, 57, 58, 59, 60, 68, 68, 84, 86, 93, 99, 102, 121, 121, 122, 122, 125, 128, 129, 132, 137, 137, 143, 146, 149, 151, 152, 161, 175, 192, 195, 196, 199, 200, 217, 223, 253, 273, 273, 278, 285, 321, 321, 323, 343, 364, 377, 383, 387, 404, 447, 460, 560, 565, 585, 605, 609, 632, 658, 688, 744, 787, 787, 796, 849, 899, 977, 1093, 1348, 1396, 1413, 1487, 1499, 1518, 1544, 1692, 1891, 1968, 1999, 2087, 2156, 2168, 2534, 2544, 2552, 3069, 3792, 3906, 4021, 4093, 4502, 4523, 4745]\n",
      ".------------------------------------------------------------------------------------------\n",
      "group with most people:  4745\n",
      "max idx:  10\n"
     ]
    },
    {
     "data": {
      "text/plain": [
       "'Sverige'"
      ]
     },
     "execution_count": 65,
     "metadata": {},
     "output_type": "execute_result"
    }
   ],
   "source": [
    "#\n",
    "no_per_c_sorted = sorted(np.copy(number_per_citizen_group))\n",
    "print(no_per_c_sorted)\n",
    "print('.------------------------------------------------------------------------------------------')\n",
    "print('group with most people: ', no_per_c_sorted[-1])\n",
    "\n",
    "idx_highest_pop = np.where(number_per_citizen_group==no_per_c_sorted[-1])\n",
    "\n",
    "snd_max_idx = idx_highest_pop[0][0] # [0][0] from ndarray to array to scalar\n",
    "print('max idx: ',snd_max_idx)\n",
    "#no_per_c[no_per_c == no_per_c_orig[-2]][0]\n",
    "country_codes[c_keys[snd_max_idx]]"
   ]
  },
  {
   "cell_type": "code",
   "execution_count": 44,
   "metadata": {},
   "outputs": [
    {
     "name": "stdout",
     "output_type": "stream",
     "text": [
      "[[2015    1   18 5100  378]\n",
      " [2015    2   18 5100  577]\n",
      " [2015    3   18 5100  513]\n",
      " ...\n",
      " [1992    9   18 5100  357]\n",
      " [1992   10   18 5100  441]\n",
      " [1992   99   18 5100   14]]\n",
      "{1: 80603, 18: 80603, 378: 80603, 2015: 80603, 5100: 80603}\n"
     ]
    }
   ],
   "source": [
    "def transformByMaks(data, mask):\n",
    "    \"\"\"\n",
    "    arg1 is the dataset on the form [[year, area, age, nationality, amount]]\n",
    "    arg2 is the mask on the form data[:,3] == 5120 to find swedish or data[:,0] == 1999 to filter on year\n",
    "    returns a new numpy array with the filtered data.\n",
    "    \"\"\"\n",
    "    return data[mask]\n",
    "\n",
    "def getDataByX(data, x_value):\n",
    "    params = {'year':0, 'area':1, 'age':2, 'nationality': 3}\n",
    "    x = params[x_value]\n",
    "    return {year:np.sum(data[:,4]) for year in np.unique(data[x])}\n",
    "    \n",
    "mask = (dd[:,2] == 18) & (dd[:,3] == 5100)\n",
    "result = transformByMaks(dd, mask)\n",
    "print(result)\n",
    "print(getDataByX(result, 'year'))"
   ]
  },
  {
   "cell_type": "markdown",
   "metadata": {},
   "source": [
    "### Computing a Histogram Concisely\n",
    "\n",
    "As said, we are using NumPy to express our data queries more concisely. The first three lines of the following program compute the histogram of ages in 2015. That is, in three lines we can express the same as in the 13 lines of , see the function `get_population_stat` under *Bar Plots* in *Intro to Plotting*."
   ]
  },
  {
   "cell_type": "code",
   "execution_count": 45,
   "metadata": {
    "scrolled": false
   },
   "outputs": [
    {
     "data": {
      "text/plain": [
       "<BarContainer object of 107 artists>"
      ]
     },
     "execution_count": 45,
     "metadata": {},
     "output_type": "execute_result"
    },
    {
     "data": {
      "image/png": "[encoded data removed]",
      "text/plain": [
       "<Figure size 432x288 with 1 Axes>"
      ]
     },
     "metadata": {
      "needs_background": "light"
     },
     "output_type": "display_data"
    }
   ],
   "source": [
    "import matplotlib.pyplot as plt\n",
    "mask = (dd[:,0] == 2015)\n",
    "set_of_ages = np.unique(dd[mask][:,2])\n",
    "freq_ages = np.array([np.sum(dd[mask & (dd[:,2] == age)][:,4]) \n",
    "                      for age in set_of_ages])\n",
    "\n",
    "plt.bar(set_of_ages, freq_ages)\n"
   ]
  },
  {
   "cell_type": "markdown",
   "metadata": {},
   "source": [
    "And computing the increase of foreign population from 2014 to 2015 is similarly easy. Read and explain the following program."
   ]
  },
  {
   "cell_type": "code",
   "execution_count": 46,
   "metadata": {},
   "outputs": [
    {
     "data": {
      "image/png": "[encoded data removed]",
      "text/plain": [
       "<Figure size 432x288 with 1 Axes>"
      ]
     },
     "metadata": {
      "needs_background": "light"
     },
     "output_type": "display_data"
    }
   ],
   "source": [
    "mask = (dd[:,3] != 5100)\n",
    "sum_14 = np.sum(dd[(dd[:,0] == 2014) & mask][:,4])\n",
    "sum_15 = np.sum(dd[(dd[:,0] == 2015) & mask][:,4])\n",
    "\n",
    "plt.axis([2013, 2016, 0, max([sum_14, sum_15]) + 2000])\n",
    "plt.bar([2014, 2015], [sum_14, sum_15], width=0.8,  align='center')\n",
    "plt.xticks([2014, 2015])\n",
    "plt.ticklabel_format(useOffset=False)"
   ]
  },
  {
   "cell_type": "markdown",
   "metadata": {},
   "source": [
    "## class exercise: extracting\n",
    "Based on the Copenhagen population data do the following (not including danish citizens):\n",
    "1. Find the 10 largest population groups\n",
    "2. Find the 10 largest population groups of children (0-17 y.o.) \n",
    "3. Create a barplot with the 10 largest groups on x-axis and 2 bars of both adult and children on y-axis\n",
    "  - make one bar red and the other green\n",
    "  - give them labels"
   ]
  },
  {
   "cell_type": "markdown",
   "metadata": {},
   "source": [
    "# Self study: For what else can we use NumPy?\n",
    "\n",
    "Images are just multi-dimensional arrays. For example, lets have a look at a small running Commander Keen\n",
    "\n",
    "![keen](images/commander_keen.png)\n",
    "\n",
    "With the following code we receive the image and convert it into a NumPy array so that we can inspect the image data."
   ]
  },
  {
   "cell_type": "code",
   "execution_count": 47,
   "metadata": {
    "scrolled": true
   },
   "outputs": [
    {
     "name": "stdout",
     "output_type": "stream",
     "text": [
      "--2020-09-14 07:56:34--  https://16couleurs.files.wordpress.com/2014/01/commander_keen_sprite_run.gif?w=611\n",
      "Resolving 16couleurs.files.wordpress.com (16couleurs.files.wordpress.com)... failed: Temporary failure in name resolution.\n",
      "wget: unable to resolve host address ‘16couleurs.files.wordpress.com’\n"
     ]
    }
   ],
   "source": [
    "!wget -O data/commander_keen_sprite_run.gif https://16couleurs.files.wordpress.com/2014/01/commander_keen_sprite_run.gif?w=611"
   ]
  },
  {
   "cell_type": "code",
   "execution_count": 48,
   "metadata": {},
   "outputs": [
    {
     "name": "stderr",
     "output_type": "stream",
     "text": [
      "--2020-09-14 07:56:44--  https://16couleurs.files.wordpress.com/2014/01/commander_keen_sprite_run.gif\n",
      "Resolving 16couleurs.files.wordpress.com (16couleurs.files.wordpress.com)... failed: Temporary failure in name resolution.\n",
      "wget: unable to resolve host address ‘16couleurs.files.wordpress.com’\n"
     ]
    },
    {
     "ename": "CalledProcessError",
     "evalue": "Command 'b'wget -O data/keen.gif https://16couleurs.files.wordpress.com/2014/01/commander_keen_sprite_run.gif\\n'' returned non-zero exit status 4.",
     "output_type": "error",
     "traceback": [
      "\u001b[0;31m---------------------------------------------------------------------------\u001b[0m",
      "\u001b[0;31mCalledProcessError\u001b[0m                        Traceback (most recent call last)",
      "\u001b[0;32m<ipython-input-48-261f462a9e9a>\u001b[0m in \u001b[0;36m<module>\u001b[0;34m\u001b[0m\n\u001b[0;32m----> 1\u001b[0;31m \u001b[0mget_ipython\u001b[0m\u001b[0;34m(\u001b[0m\u001b[0;34m)\u001b[0m\u001b[0;34m.\u001b[0m\u001b[0mrun_cell_magic\u001b[0m\u001b[0;34m(\u001b[0m\u001b[0;34m'bash'\u001b[0m\u001b[0;34m,\u001b[0m \u001b[0;34m''\u001b[0m\u001b[0;34m,\u001b[0m \u001b[0;34m'wget -O data/keen.gif https://16couleurs.files.wordpress.com/2014/01/commander_keen_sprite_run.gif\\n'\u001b[0m\u001b[0;34m)\u001b[0m\u001b[0;34m\u001b[0m\u001b[0;34m\u001b[0m\u001b[0m\n\u001b[0m",
      "\u001b[0;32m/opt/conda/lib/python3.7/site-packages/IPython/core/interactiveshell.py\u001b[0m in \u001b[0;36mrun_cell_magic\u001b[0;34m(self, magic_name, line, cell)\u001b[0m\n\u001b[1;32m   2360\u001b[0m             \u001b[0;32mwith\u001b[0m \u001b[0mself\u001b[0m\u001b[0;34m.\u001b[0m\u001b[0mbuiltin_trap\u001b[0m\u001b[0;34m:\u001b[0m\u001b[0;34m\u001b[0m\u001b[0;34m\u001b[0m\u001b[0m\n\u001b[1;32m   2361\u001b[0m                 \u001b[0margs\u001b[0m \u001b[0;34m=\u001b[0m \u001b[0;34m(\u001b[0m\u001b[0mmagic_arg_s\u001b[0m\u001b[0;34m,\u001b[0m \u001b[0mcell\u001b[0m\u001b[0;34m)\u001b[0m\u001b[0;34m\u001b[0m\u001b[0;34m\u001b[0m\u001b[0m\n\u001b[0;32m-> 2362\u001b[0;31m                 \u001b[0mresult\u001b[0m \u001b[0;34m=\u001b[0m \u001b[0mfn\u001b[0m\u001b[0;34m(\u001b[0m\u001b[0;34m*\u001b[0m\u001b[0margs\u001b[0m\u001b[0;34m,\u001b[0m \u001b[0;34m**\u001b[0m\u001b[0mkwargs\u001b[0m\u001b[0;34m)\u001b[0m\u001b[0;34m\u001b[0m\u001b[0;34m\u001b[0m\u001b[0m\n\u001b[0m\u001b[1;32m   2363\u001b[0m             \u001b[0;32mreturn\u001b[0m \u001b[0mresult\u001b[0m\u001b[0;34m\u001b[0m\u001b[0;34m\u001b[0m\u001b[0m\n\u001b[1;32m   2364\u001b[0m \u001b[0;34m\u001b[0m\u001b[0m\n",
      "\u001b[0;32m/opt/conda/lib/python3.7/site-packages/IPython/core/magics/script.py\u001b[0m in \u001b[0;36mnamed_script_magic\u001b[0;34m(line, cell)\u001b[0m\n\u001b[1;32m    140\u001b[0m             \u001b[0;32melse\u001b[0m\u001b[0;34m:\u001b[0m\u001b[0;34m\u001b[0m\u001b[0;34m\u001b[0m\u001b[0m\n\u001b[1;32m    141\u001b[0m                 \u001b[0mline\u001b[0m \u001b[0;34m=\u001b[0m \u001b[0mscript\u001b[0m\u001b[0;34m\u001b[0m\u001b[0;34m\u001b[0m\u001b[0m\n\u001b[0;32m--> 142\u001b[0;31m             \u001b[0;32mreturn\u001b[0m \u001b[0mself\u001b[0m\u001b[0;34m.\u001b[0m\u001b[0mshebang\u001b[0m\u001b[0;34m(\u001b[0m\u001b[0mline\u001b[0m\u001b[0;34m,\u001b[0m \u001b[0mcell\u001b[0m\u001b[0;34m)\u001b[0m\u001b[0;34m\u001b[0m\u001b[0;34m\u001b[0m\u001b[0m\n\u001b[0m\u001b[1;32m    143\u001b[0m \u001b[0;34m\u001b[0m\u001b[0m\n\u001b[1;32m    144\u001b[0m         \u001b[0;31m# write a basic docstring:\u001b[0m\u001b[0;34m\u001b[0m\u001b[0;34m\u001b[0m\u001b[0;34m\u001b[0m\u001b[0m\n",
      "\u001b[0;32m<decorator-gen-110>\u001b[0m in \u001b[0;36mshebang\u001b[0;34m(self, line, cell)\u001b[0m\n",
      "\u001b[0;32m/opt/conda/lib/python3.7/site-packages/IPython/core/magic.py\u001b[0m in \u001b[0;36m<lambda>\u001b[0;34m(f, *a, **k)\u001b[0m\n\u001b[1;32m    185\u001b[0m     \u001b[0;31m# but it's overkill for just that one bit of state.\u001b[0m\u001b[0;34m\u001b[0m\u001b[0;34m\u001b[0m\u001b[0;34m\u001b[0m\u001b[0m\n\u001b[1;32m    186\u001b[0m     \u001b[0;32mdef\u001b[0m \u001b[0mmagic_deco\u001b[0m\u001b[0;34m(\u001b[0m\u001b[0marg\u001b[0m\u001b[0;34m)\u001b[0m\u001b[0;34m:\u001b[0m\u001b[0;34m\u001b[0m\u001b[0;34m\u001b[0m\u001b[0m\n\u001b[0;32m--> 187\u001b[0;31m         \u001b[0mcall\u001b[0m \u001b[0;34m=\u001b[0m \u001b[0;32mlambda\u001b[0m \u001b[0mf\u001b[0m\u001b[0;34m,\u001b[0m \u001b[0;34m*\u001b[0m\u001b[0ma\u001b[0m\u001b[0;34m,\u001b[0m \u001b[0;34m**\u001b[0m\u001b[0mk\u001b[0m\u001b[0;34m:\u001b[0m \u001b[0mf\u001b[0m\u001b[0;34m(\u001b[0m\u001b[0;34m*\u001b[0m\u001b[0ma\u001b[0m\u001b[0;34m,\u001b[0m \u001b[0;34m**\u001b[0m\u001b[0mk\u001b[0m\u001b[0;34m)\u001b[0m\u001b[0;34m\u001b[0m\u001b[0;34m\u001b[0m\u001b[0m\n\u001b[0m\u001b[1;32m    188\u001b[0m \u001b[0;34m\u001b[0m\u001b[0m\n\u001b[1;32m    189\u001b[0m         \u001b[0;32mif\u001b[0m \u001b[0mcallable\u001b[0m\u001b[0;34m(\u001b[0m\u001b[0marg\u001b[0m\u001b[0;34m)\u001b[0m\u001b[0;34m:\u001b[0m\u001b[0;34m\u001b[0m\u001b[0;34m\u001b[0m\u001b[0m\n",
      "\u001b[0;32m/opt/conda/lib/python3.7/site-packages/IPython/core/magics/script.py\u001b[0m in \u001b[0;36mshebang\u001b[0;34m(self, line, cell)\u001b[0m\n\u001b[1;32m    243\u001b[0m             \u001b[0msys\u001b[0m\u001b[0;34m.\u001b[0m\u001b[0mstderr\u001b[0m\u001b[0;34m.\u001b[0m\u001b[0mflush\u001b[0m\u001b[0;34m(\u001b[0m\u001b[0;34m)\u001b[0m\u001b[0;34m\u001b[0m\u001b[0;34m\u001b[0m\u001b[0m\n\u001b[1;32m    244\u001b[0m         \u001b[0;32mif\u001b[0m \u001b[0margs\u001b[0m\u001b[0;34m.\u001b[0m\u001b[0mraise_error\u001b[0m \u001b[0;32mand\u001b[0m \u001b[0mp\u001b[0m\u001b[0;34m.\u001b[0m\u001b[0mreturncode\u001b[0m\u001b[0;34m!=\u001b[0m\u001b[0;36m0\u001b[0m\u001b[0;34m:\u001b[0m\u001b[0;34m\u001b[0m\u001b[0;34m\u001b[0m\u001b[0m\n\u001b[0;32m--> 245\u001b[0;31m             \u001b[0;32mraise\u001b[0m \u001b[0mCalledProcessError\u001b[0m\u001b[0;34m(\u001b[0m\u001b[0mp\u001b[0m\u001b[0;34m.\u001b[0m\u001b[0mreturncode\u001b[0m\u001b[0;34m,\u001b[0m \u001b[0mcell\u001b[0m\u001b[0;34m,\u001b[0m \u001b[0moutput\u001b[0m\u001b[0;34m=\u001b[0m\u001b[0mout\u001b[0m\u001b[0;34m,\u001b[0m \u001b[0mstderr\u001b[0m\u001b[0;34m=\u001b[0m\u001b[0merr\u001b[0m\u001b[0;34m)\u001b[0m\u001b[0;34m\u001b[0m\u001b[0;34m\u001b[0m\u001b[0m\n\u001b[0m\u001b[1;32m    246\u001b[0m \u001b[0;34m\u001b[0m\u001b[0m\n\u001b[1;32m    247\u001b[0m     \u001b[0;32mdef\u001b[0m \u001b[0m_run_script\u001b[0m\u001b[0;34m(\u001b[0m\u001b[0mself\u001b[0m\u001b[0;34m,\u001b[0m \u001b[0mp\u001b[0m\u001b[0;34m,\u001b[0m \u001b[0mcell\u001b[0m\u001b[0;34m,\u001b[0m \u001b[0mto_close\u001b[0m\u001b[0;34m)\u001b[0m\u001b[0;34m:\u001b[0m\u001b[0;34m\u001b[0m\u001b[0;34m\u001b[0m\u001b[0m\n",
      "\u001b[0;31mCalledProcessError\u001b[0m: Command 'b'wget -O data/keen.gif https://16couleurs.files.wordpress.com/2014/01/commander_keen_sprite_run.gif\\n'' returned non-zero exit status 4."
     ]
    }
   ],
   "source": [
    "%%bash\n",
    "wget -O data/keen.gif https://16couleurs.files.wordpress.com/2014/01/commander_keen_sprite_run.gif"
   ]
  },
  {
   "cell_type": "code",
   "execution_count": null,
   "metadata": {},
   "outputs": [],
   "source": [
    "#### import webget\n",
    "import numpy as np\n",
    "from PIL import Image\n",
    "\n",
    "\n",
    "im = Image.open('data/commander_keen_sprite_run.gif')\n",
    "# convert the data to RGB color space\n",
    "rgb_im = im.convert('RGB')\n",
    "print(rgb_im)\n",
    "im_array = np.asarray(rgb_im)\n",
    "print(im_array.shape, ' represents the rows(y),columns(x) and pixelcolor (as rgb)')\n",
    "print('255 255 255 is white to see other colors lets slice away the first 10 squares of data: \\n\\n',im_array[10:11,7:17,0:])\n",
    "im_data = np.copy(im_array)  # we have to copy the data as we want to modify it later"
   ]
  },
  {
   "cell_type": "markdown",
   "metadata": {},
   "source": [
    "Let's get a feeling for how colors are distributed in the image by plotting the values per color channel."
   ]
  },
  {
   "cell_type": "code",
   "execution_count": null,
   "metadata": {},
   "outputs": [],
   "source": [
    "# import matplotlib.pyplot as plt\n",
    "print('im_data.shape[0] is the y-values (verical dimension):\\n',im_data.shape[0],'\\nim_data.shape[1] is the x-values (horizontal dimension):\\n',im_data.shape[1],'\\nim_data.shape[2] is the actual rgb color of the pixel:\\n',im_data.shape[2])\n",
    "img_line = im_data.reshape(im_data.shape[0] * im_data.shape[1], im_data.shape[2]) # reshaping 3d array to a 2d array by putting the x,y values one long data row\n",
    "print('now its a 2d array:\\n',img_line)\n",
    "print('new shape: ',img_line.shape)\n",
    "plt.plot(img_line[:,0], 'ro') #shorthand for red circle\n",
    "plt.plot(img_line[:,1], 'gx') #green x\n",
    "plt.plot(img_line[:,2], 'b+') #blue plus\n",
    "plt.xlabel('Pixels starting from upper left corner')\n",
    "plt.ylabel('strength of the r,g or b color in the pixel') # white color shows up as full force on all 3 chanels, but blue overpowers because it is written on top (last)\n",
    "plt.show()"
   ]
  },
  {
   "cell_type": "markdown",
   "metadata": {},
   "source": [
    "Replacing a set of RGB values can be done as in the following. We want to give Commander Keen another t-shirt color. So by querying the color at the central pixel `im_data[32,24,:]`, we see that it is `[252, 84, 252]`. Consequently, we find all pixels with these values and assign a new value to those positions."
   ]
  },
  {
   "cell_type": "code",
   "execution_count": null,
   "metadata": {},
   "outputs": [],
   "source": [
    "im_data_orig = np.copy(im_data)"
   ]
  },
  {
   "cell_type": "code",
   "execution_count": null,
   "metadata": {},
   "outputs": [],
   "source": [
    "%matplotlib notebook\n",
    "print(im_data.shape)\n",
    "print(im_data_orig[32,24,:]) # pink color from 32px down - 24px right in commander_keen img\n",
    "\n",
    "mask = (im_data_orig[:,:,0] == 252) & (im_data_orig[:,:,1] == 84) & (im_data_orig[:,:,2] == 252)\n",
    "im_data[mask] = np.array([250, 230, 0]) # replace the pixels chosen by the mask with [250,230,0]=yellow\n",
    "plt.figure()\n",
    "plt.subplot(1, 2, 2) # 1=row, 2=column, 2=index (image will have one row with 2 columns AND this plot will be in the second column/index)\n",
    "plt.title('Original')\n",
    "plt.imshow(im_data_orig)\n",
    "plt.subplot(1, 2, 1)\n",
    "plt.title('Modified')\n",
    "plt.imshow(im_data)\n",
    "plt.show()"
   ]
  },
  {
   "cell_type": "markdown",
   "metadata": {},
   "source": [
    "As you saw above, each channel for the RGB values is represented with the help of a two-dimensional array. We can split them up to inspect the respective intensities."
   ]
  },
  {
   "cell_type": "code",
   "execution_count": null,
   "metadata": {},
   "outputs": [],
   "source": [
    "%matplotlib inline\n",
    "red_channel = im_data_orig[:,:,0] # red=0, green=1, blue=2\n",
    "print('upper left corner is all white and red,green,blue==255:',red_channel[0,0],'\\n somewhere in the center:',red_channel[50,24])\n",
    "plt.imshow(red_channel, cmap=plt.cm.Greys) # low value becomes light and close to 255 becomes black."
   ]
  },
  {
   "cell_type": "code",
   "execution_count": null,
   "metadata": {},
   "outputs": [],
   "source": [
    "channels = [('Red', 0), ('Green', 1), ('Blue', 2)]\n",
    "plt.figure()\n",
    "for channel, channel_idx in channels:\n",
    "    plt.subplot(1, 3, channel_idx+1)\n",
    "    plt.title('{}'.format(channel))\n",
    "    imarray = im_data_orig[:,:,channel_idx]\n",
    "    plt.imshow(imarray, cmap=plt.cm.Greys)"
   ]
  }
 ],
 "metadata": {
  "kernelspec": {
   "display_name": "Python 3",
   "language": "python",
   "name": "python3"
  },
  "language_info": {
   "codemirror_mode": {
    "name": "ipython",
    "version": 3
   },
   "file_extension": ".py",
   "mimetype": "text/x-python",
   "name": "python",
   "nbconvert_exporter": "python",
   "pygments_lexer": "ipython3",
   "version": "3.7.6"
  },
  "varInspector": {
   "cols": {
    "lenName": 16,
    "lenType": 16,
    "lenVar": 40
   },
   "kernels_config": {
    "python": {
     "delete_cmd_postfix": "",
     "delete_cmd_prefix": "del ",
     "library": "var_list.py",
     "varRefreshCmd": "print(var_dic_list())"
    },
    "r": {
     "delete_cmd_postfix": ") ",
     "delete_cmd_prefix": "rm(",
     "library": "var_list.r",
     "varRefreshCmd": "cat(var_dic_list()) "
    }
   },
   "types_to_exclude": [
    "module",
    "function",
    "builtin_function_or_method",
    "instance",
    "_Feature"
   ],
   "window_display": false
  }
 },
 "nbformat": 4,
 "nbformat_minor": 2
}
